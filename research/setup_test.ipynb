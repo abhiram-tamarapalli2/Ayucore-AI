{
 "cells": [
  {
   "cell_type": "markdown",
   "id": "18282f16",
   "metadata": {},
   "source": [
    "# Medical Chatbot Setup Test\n",
    "\n",
    "This notebook tests the setup of Pinecone and Gemini API for the medical chatbot project.\n",
    "\n",
    "## Prerequisites\n",
    "- Pinecone API Key: Set in environment\n",
    "- Google Gemini API Key: Set in environment  \n",
    "- Required packages installed\n",
    "\n",
    "Let's verify everything is working correctly!"
   ]
  }
 ],
 "metadata": {
  "language_info": {
   "name": "python"
  }
 },
 "nbformat": 4,
 "nbformat_minor": 5
}
